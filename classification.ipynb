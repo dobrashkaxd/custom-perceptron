{
 "cells": [
  {
   "cell_type": "code",
   "execution_count": 1,
   "metadata": {},
   "outputs": [],
   "source": [
    "import numpy as np\n",
    "import sklearn\n",
    "from sklearn.datasets import make_classification\n",
    "from sklearn.model_selection import train_test_split\n",
    "from sklearn.linear_model import LogisticRegression\n",
    "import matplotlib.pyplot as plt\n",
    "\n",
    "from perceptron import Perceptron\n",
    "from layers.dense import Dense\n",
    "from activations.relu import ReLU\n",
    "from activations.sigmoid import Sigmoid\n",
    "from losses.mse_loss import MSELoss\n",
    "from optimizers.gradient_descent import OptimizerGD"
   ]
  },
  {
   "cell_type": "code",
   "execution_count": 2,
   "metadata": {},
   "outputs": [
    {
     "name": "stdout",
     "output_type": "stream",
     "text": [
      "(160, 4)\n",
      "(40, 4)\n",
      "(160, 1)\n",
      "(40, 1)\n"
     ]
    }
   ],
   "source": [
    "X_cl, y_cl = make_classification(n_samples=200, n_features=4, random_state=42)\n",
    "X_train_cl, X_test_cl, y_train_cl, y_test_cl = train_test_split(X_cl, y_cl, test_size=0.20)\n",
    "X_train_cl = np.array(X_train_cl)\n",
    "X_test_cl = np.array(X_test_cl)\n",
    "y_train_cl = np.array(y_train_cl).reshape((len(y_train_cl),1))\n",
    "y_test_cl = np.array(y_test_cl.reshape((len(y_test_cl),1)))\n",
    "print(X_train_cl.shape)\n",
    "print(X_test_cl.shape)\n",
    "print(y_train_cl.shape)\n",
    "print(y_test_cl.shape)"
   ]
  },
  {
   "cell_type": "code",
   "execution_count": 3,
   "metadata": {},
   "outputs": [],
   "source": [
    "model = Perceptron()\n",
    "model.add_layer(Dense(4, 16))\n",
    "model.add_layer(ReLU())\n",
    "model.add_layer(Dense(16, 1))\n",
    "model.add_layer(Sigmoid())\n",
    "model.set_loss(MSELoss(stopping_criterion=0.01))\n",
    "model.set_optimizer(OptimizerGD(0.001))"
   ]
  },
  {
   "cell_type": "code",
   "execution_count": 4,
   "metadata": {},
   "outputs": [
    {
     "name": "stdout",
     "output_type": "stream",
     "text": [
      "Accuracy: 0.775\n",
      "Precision: 0.7272727272727273\n",
      "Recall: 0.8421052631578947\n",
      "F1 score: 0.7804878048780488\n"
     ]
    }
   ],
   "source": [
    "cl_history = model.fit(200, X_train_cl, y_train_cl, False)\n",
    "y_pred_cl = model.predict(X_test_cl)\n",
    "y_pred_cl = np.round(y_pred_cl)\n",
    "acc = sklearn.metrics.accuracy_score(y_test_cl, y_pred_cl)\n",
    "prec = sklearn.metrics.precision_score(y_test_cl, y_pred_cl)\n",
    "recall = sklearn.metrics.recall_score(y_test_cl, y_pred_cl)\n",
    "f1 = sklearn.metrics.f1_score(y_test_cl, y_pred_cl)\n",
    "print('Accuracy:', acc)\n",
    "print('Precision:', prec)\n",
    "print('Recall:', recall)\n",
    "print('F1 score:', f1)"
   ]
  },
  {
   "cell_type": "code",
   "execution_count": 12,
   "metadata": {},
   "outputs": [
    {
     "name": "stdout",
     "output_type": "stream",
     "text": [
      "---Кастомная модель----\n",
      "Accuracy: 0.775\n",
      "Precision: 0.7272727272727273\n",
      "Recall: 0.8421052631578947\n",
      "F1 score: 0.7804878048780488\n",
      "\n",
      "---sklearn LogisticRegression----\n",
      "Accuracy: 0.75\n",
      "Precision: 0.6956521739130435\n",
      "Recall: 0.8421052631578947\n",
      "F1 score: 0.7619047619047619\n"
     ]
    }
   ],
   "source": [
    "print('---Кастомная модель----')\n",
    "print('Accuracy:', acc)\n",
    "print('Precision:', prec)\n",
    "print('Recall:', recall)\n",
    "print('F1 score:', f1, end='\\n\\n')\n",
    "print('---sklearn LogisticRegression----')\n",
    "print('Accuracy:', acc_classif)\n",
    "print('Precision:', prec_classif)\n",
    "print('Recall:', recall_classif)\n",
    "print('F1 score:', f1_classif)"
   ]
  },
  {
   "cell_type": "code",
   "execution_count": 5,
   "metadata": {},
   "outputs": [
    {
     "data": {
      "text/plain": [
       "[<matplotlib.lines.Line2D at 0x177fc01ad90>]"
      ]
     },
     "execution_count": 5,
     "metadata": {},
     "output_type": "execute_result"
    },
    {
     "data": {
      "image/png": "[encoded data removed]",
      "text/plain": [
       "<Figure size 640x480 with 1 Axes>"
      ]
     },
     "metadata": {},
     "output_type": "display_data"
    }
   ],
   "source": [
    "plt.plot(cl_history)"
   ]
  },
  {
   "cell_type": "code",
   "execution_count": 6,
   "metadata": {},
   "outputs": [
    {
     "name": "stdout",
     "output_type": "stream",
     "text": [
      "Accuracy: 0.75\n",
      "Precision: 0.6956521739130435\n",
      "Recall: 0.8421052631578947\n",
      "F1 score: 0.7619047619047619\n"
     ]
    },
    {
     "name": "stderr",
     "output_type": "stream",
     "text": [
      "c:\\Users\\kechi\\Desktop\\perceptron\\venv\\Lib\\site-packages\\sklearn\\utils\\validation.py:1300: DataConversionWarning: A column-vector y was passed when a 1d array was expected. Please change the shape of y to (n_samples, ), for example using ravel().\n",
      "  y = column_or_1d(y, warn=True)\n"
     ]
    }
   ],
   "source": [
    "classif = LogisticRegression().fit(X_train_cl, y_train_cl)\n",
    "classif_pred = classif.predict(X_test_cl)\n",
    "acc_classif = sklearn.metrics.accuracy_score(y_test_cl, classif_pred)\n",
    "prec_classif = sklearn.metrics.precision_score(y_test_cl, classif_pred)\n",
    "recall_classif = sklearn.metrics.recall_score(y_test_cl, classif_pred)\n",
    "f1_classif = sklearn.metrics.f1_score(y_test_cl, classif_pred)\n",
    "print('Accuracy:', acc_classif)\n",
    "print('Precision:', prec_classif)\n",
    "print('Recall:', recall_classif)\n",
    "print('F1 score:', f1_classif)"
   ]
  }
 ],
 "metadata": {
  "kernelspec": {
   "display_name": "venv",
   "language": "python",
   "name": "python3"
  },
  "language_info": {
   "codemirror_mode": {
    "name": "ipython",
    "version": 3
   },
   "file_extension": ".py",
   "mimetype": "text/x-python",
   "name": "python",
   "nbconvert_exporter": "python",
   "pygments_lexer": "ipython3",
   "version": "3.11.2"
  }
 },
 "nbformat": 4,
 "nbformat_minor": 2
}
