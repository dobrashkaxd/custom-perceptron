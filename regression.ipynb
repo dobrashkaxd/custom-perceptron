{
 "cells": [
  {
   "cell_type": "code",
   "execution_count": 1,
   "metadata": {},
   "outputs": [],
   "source": [
    "import numpy as np\n",
    "import sklearn\n",
    "from sklearn.datasets import make_regression\n",
    "from sklearn.model_selection import train_test_split\n",
    "from sklearn.linear_model import LinearRegression\n",
    "import matplotlib.pyplot as plt\n",
    "\n",
    "from perceptron import Perceptron\n",
    "from layers.dense import Dense\n",
    "from activations.relu import ReLU\n",
    "from activations.linear import Linear\n",
    "from losses.mse_loss import MSELoss\n",
    "from optimizers.gradient_descent import OptimizerGD"
   ]
  },
  {
   "cell_type": "code",
   "execution_count": 2,
   "metadata": {},
   "outputs": [
    {
     "name": "stdout",
     "output_type": "stream",
     "text": [
      "(160, 3)\n",
      "(40, 3)\n",
      "(160, 1)\n",
      "(40, 1)\n"
     ]
    }
   ],
   "source": [
    "X, y = make_regression(n_samples=200, n_features=3, random_state=42)\n",
    "X_train, X_test, y_train, y_test = train_test_split(X, y, test_size=0.20)\n",
    "X_train = np.array(X_train)\n",
    "X_test = np.array(X_test)\n",
    "y_train = np.array(y_train).reshape((len(y_train),1))\n",
    "y_test = np.array(y_test.reshape((len(y_test),1)))\n",
    "print(X_train.shape)\n",
    "print(X_test.shape)\n",
    "print(y_train.shape)\n",
    "print(y_test.shape)"
   ]
  },
  {
   "cell_type": "code",
   "execution_count": 3,
   "metadata": {},
   "outputs": [],
   "source": [
    "model = Perceptron()\n",
    "\n",
    "model.add_layer(Dense(3, 16))\n",
    "model.add_layer(ReLU())\n",
    "model.add_layer(Dense(16, 1))\n",
    "model.add_layer(Linear())\n",
    "model.set_loss(MSELoss(stopping_criterion=0.01))\n",
    "model.set_optimizer(OptimizerGD(0.0001))"
   ]
  },
  {
   "cell_type": "code",
   "execution_count": 4,
   "metadata": {},
   "outputs": [
    {
     "name": "stdout",
     "output_type": "stream",
     "text": [
      "MAE: 0.8113131441893225\n",
      "MSE: 1.3023544928164\n",
      "R2: 0.9998497102649964\n",
      "MAPE: 0.09236762953290632\n"
     ]
    }
   ],
   "source": [
    "reg_history = model.fit(115, X_train, y_train, False)\n",
    "y_pred = model.predict(X_test)\n",
    "NN_mae = sklearn.metrics.mean_absolute_error(y_test, y_pred)\n",
    "NN_mse = sklearn.metrics.mean_squared_error(y_test, y_pred)\n",
    "NN_R2 = sklearn.metrics.r2_score(y_test, y_pred)\n",
    "NN_mape = sklearn.metrics.mean_absolute_percentage_error(y_test, y_pred)\n",
    "print('MAE:', NN_mae)\n",
    "print('MSE:', NN_mse)\n",
    "print('R2:', NN_R2)\n",
    "print('MAPE:', NN_mape)"
   ]
  },
  {
   "cell_type": "code",
   "execution_count": 5,
   "metadata": {},
   "outputs": [
    {
     "data": {
      "text/plain": [
       "[<matplotlib.lines.Line2D at 0x26d92281150>]"
      ]
     },
     "execution_count": 5,
     "metadata": {},
     "output_type": "execute_result"
    },
    {
     "data": {
      "image/png": "[encoded data removed]",
      "text/plain": [
       "<Figure size 640x480 with 1 Axes>"
      ]
     },
     "metadata": {},
     "output_type": "display_data"
    }
   ],
   "source": [
    "plt.plot(reg_history,color='red')"
   ]
  },
  {
   "cell_type": "code",
   "execution_count": 6,
   "metadata": {},
   "outputs": [
    {
     "name": "stdout",
     "output_type": "stream",
     "text": [
      "MAE: 2.1674328998244618e-14\n",
      "MSE: 8.249220174997184e-28\n",
      "R2: 1.0\n",
      "MAPE: 9.650668538279603e-16\n"
     ]
    }
   ],
   "source": [
    "reg = LinearRegression().fit(X_train, y_train)\n",
    "reg_y_pred = reg.predict(X_test)\n",
    "Reg_mae = sklearn.metrics.mean_absolute_error(y_test, reg_y_pred)\n",
    "Reg_mse = sklearn.metrics.mean_squared_error(y_test, reg_y_pred)\n",
    "Reg_R2 = sklearn.metrics.r2_score(y_test, reg_y_pred)\n",
    "Reg_mape = sklearn.metrics.mean_absolute_percentage_error(y_test, reg_y_pred)\n",
    "print('MAE:', Reg_mae)\n",
    "print('MSE:', Reg_mse)\n",
    "print('R2:', Reg_R2)\n",
    "print('MAPE:', Reg_mape)"
   ]
  },
  {
   "cell_type": "code",
   "execution_count": 8,
   "metadata": {},
   "outputs": [
    {
     "name": "stdout",
     "output_type": "stream",
     "text": [
      "---Кастомная модель----\n",
      "MAE: 0.8113131441893225\n",
      "MSE: 1.3023544928164\n",
      "R2: 0.9998497102649964\n",
      "MAPE: 0.09236762953290632\n",
      "\n",
      "---sklearn LinearRegression----\n",
      "MAE: 2.1674328998244618e-14\n",
      "MSE: 8.249220174997184e-28\n",
      "R2: 1.0\n",
      "MAPE: 9.650668538279603e-16\n"
     ]
    }
   ],
   "source": [
    "print('---Кастомная модель----')\n",
    "print('MAE:', NN_mae)\n",
    "print('MSE:', NN_mse)\n",
    "print('R2:', NN_R2)\n",
    "print('MAPE:', NN_mape, end='\\n\\n')\n",
    "\n",
    "print('---sklearn LinearRegression----')\n",
    "print('MAE:', Reg_mae)\n",
    "print('MSE:', Reg_mse)\n",
    "print('R2:', Reg_R2)\n",
    "print('MAPE:', Reg_mape)"
   ]
  },
  {
   "cell_type": "code",
   "execution_count": null,
   "metadata": {},
   "outputs": [],
   "source": []
  }
 ],
 "metadata": {
  "kernelspec": {
   "display_name": "venv",
   "language": "python",
   "name": "python3"
  },
  "language_info": {
   "codemirror_mode": {
    "name": "ipython",
    "version": 3
   },
   "file_extension": ".py",
   "mimetype": "text/x-python",
   "name": "python",
   "nbconvert_exporter": "python",
   "pygments_lexer": "ipython3",
   "version": "3.11.2"
  }
 },
 "nbformat": 4,
 "nbformat_minor": 2
}
